{
 "cells": [
  {
   "cell_type": "code",
   "execution_count": 9,
   "id": "a63cdb5f-74b6-4169-a9b9-fe7ebbe8b431",
   "metadata": {},
   "outputs": [
    {
     "data": {
      "text/plain": [
       "13"
      ]
     },
     "execution_count": 9,
     "metadata": {},
     "output_type": "execute_result"
    }
   ],
   "source": [
    "1+12"
   ]
  },
  {
   "cell_type": "code",
   "execution_count": 2,
   "id": "9da42b31-5509-4f15-84a4-4480cfd887fa",
   "metadata": {},
   "outputs": [
    {
     "data": {
      "text/plain": [
       "-100"
      ]
     },
     "execution_count": 2,
     "metadata": {},
     "output_type": "execute_result"
    }
   ],
   "source": [
    "100-200"
   ]
  },
  {
   "cell_type": "code",
   "execution_count": 8,
   "id": "7c0e6693-8f86-4966-9d4a-d97151d33ae6",
   "metadata": {},
   "outputs": [
    {
     "data": {
      "text/plain": [
       "0.5"
      ]
     },
     "execution_count": 8,
     "metadata": {},
     "output_type": "execute_result"
    }
   ],
   "source": [
    "10/20"
   ]
  },
  {
   "cell_type": "code",
   "execution_count": 14,
   "id": "a4264d7a-b1c6-4f84-9c1c-357089c2968d",
   "metadata": {},
   "outputs": [
    {
     "name": "stdout",
     "output_type": "stream",
     "text": [
      "10\n"
     ]
    }
   ],
   "source": [
    "if True:\n",
    "    print(\"10\")"
   ]
  },
  {
   "cell_type": "markdown",
   "id": "dfab812b-111b-4556-b84e-28873ba083f0",
   "metadata": {},
   "source": [
    "# 1. 제목\n",
    "\n",
    "## 소제목\n",
    "- ㅇㅇㄹ\n",
    "- ㄷㄹㅈ\n",
    "- ㅍ\n",
    "\n",
    "dsffsdf\n",
    "# ㄴㅇㄹㄴㅇㄹ\n",
    "ㅇㄴㄹㄴㅇ\n",
    "ㄴㅇㄹ\n",
    "\n",
    "# ㄴㅇㄹㄴㅇㄹ\n",
    "## ㄴㅇㄹㄴㅇ\n"
   ]
  },
  {
   "cell_type": "code",
   "execution_count": 5,
   "id": "389b4014-b4bd-4f41-8400-aaca960e183f",
   "metadata": {},
   "outputs": [],
   "source": [
    "이름 = \"홍길동\"\n",
    "나이 = 30\n",
    "a = None"
   ]
  },
  {
   "cell_type": "code",
   "execution_count": 6,
   "id": "3e67fbe1-fa48-4503-830d-dfc4344d2f03",
   "metadata": {},
   "outputs": [
    {
     "name": "stdout",
     "output_type": "stream",
     "text": [
      "홍길동\n",
      "30\n",
      "None\n"
     ]
    }
   ],
   "source": [
    "print (이름)\n",
    "print (나이)\n",
    "print (a)"
   ]
  },
  {
   "cell_type": "code",
   "execution_count": 12,
   "id": "d895e89c-abda-4dcf-8003-b2b4c65e3542",
   "metadata": {},
   "outputs": [
    {
     "name": "stdout",
     "output_type": "stream",
     "text": [
      "50000000.0\n",
      "50000000\n"
     ]
    }
   ],
   "source": [
    "a=5e7\n",
    "print (a)\n",
    "a = int(a)\n",
    "print(a)"
   ]
  },
  {
   "cell_type": "code",
   "execution_count": 16,
   "id": "7a5f2eb5-5699-4692-9f69-ac7e871dd934",
   "metadata": {},
   "outputs": [
    {
     "data": {
      "text/plain": [
       "False"
      ]
     },
     "execution_count": 16,
     "metadata": {},
     "output_type": "execute_result"
    }
   ],
   "source": [
    "x=2\n",
    "(x>5) & (x<10)"
   ]
  },
  {
   "cell_type": "code",
   "execution_count": 17,
   "id": "34f49b86-702f-48b4-9951-70b15a584c61",
   "metadata": {},
   "outputs": [
    {
     "name": "stdin",
     "output_type": "stream",
     "text": [
      "정수: -10\n"
     ]
    },
    {
     "name": "stdout",
     "output_type": "stream",
     "text": [
      "음수\n"
     ]
    }
   ],
   "source": [
    "num=input(\"정수:\")\n",
    "num= int(num)\n",
    "result = \"양수\" if num >= 0 else \"음수\"\n",
    "print(result)"
   ]
  }
 ],
 "metadata": {
  "kernelspec": {
   "display_name": "Python 3 (ipykernel)",
   "language": "python",
   "name": "python3"
  },
  "language_info": {
   "codemirror_mode": {
    "name": "ipython",
    "version": 3
   },
   "file_extension": ".py",
   "mimetype": "text/x-python",
   "name": "python",
   "nbconvert_exporter": "python",
   "pygments_lexer": "ipython3",
   "version": "3.12.5"
  }
 },
 "nbformat": 4,
 "nbformat_minor": 5
}
